{
 "cells": [
  {
   "cell_type": "markdown",
   "id": "f3a5c504-e9df-4197-90e6-cadca03d71c4",
   "metadata": {},
   "source": [
    "# Generate PO tracking file"
   ]
  },
  {
   "cell_type": "code",
   "execution_count": 2,
   "id": "1801be21-4c11-4ad9-b38a-8149e91dd20a",
   "metadata": {
    "tags": []
   },
   "outputs": [
    {
     "name": "stdout",
     "output_type": "stream",
     "text": [
      "2023FW\n"
     ]
    }
   ],
   "source": [
    "season = \"2023FW\"\n",
    "print(season)"
   ]
  },
  {
   "cell_type": "markdown",
   "id": "0cb8ab18-725d-47d5-9250-308db11eb1df",
   "metadata": {},
   "source": [
    "## Write header for new Shipment Tracking.xlsx file"
   ]
  },
  {
   "cell_type": "code",
   "execution_count": 4,
   "id": "4e034512-959c-40a1-9577-153f1a8f9941",
   "metadata": {
    "tags": []
   },
   "outputs": [],
   "source": [
    "from openpyxl import Workbook\n",
    "from openpyxl.styles import PatternFill, Border, Side, Alignment, Protection, Font\n",
    "thin = Side(border_style = \"thin\", color = \"000000\")\n",
    "thick = Side(border_style = \"thick\", color = \"0033CCCC\")\n",
    "POtrack = Workbook()\n",
    "POtrack1 = POtrack.active\n",
    "POtrack1.title = season\n",
    "POtrack1.merge_cells(\"A1:J3\")\n",
    "POtrack1[\"A1\"] = season + \" China to Global Shipment Tracking\"\n",
    "POtrack1[\"A1\"].font = Font(size = 22, bold = True)\n",
    "POtrack1[\"A1\"].alignment = center = Alignment(horizontal = \"center\", vertical = \"center\", wrap_text = True)\n",
    "POtrack1.merge_cells(\"K1:L1\")\n",
    "POtrack1[\"K1\"] = \"Country/region\"\n",
    "POtrack1[\"K1\"].alignment = center\n",
    "POtrack1.merge_cells(\"K2:L2\")\n",
    "POtrack1[\"K2\"] = \"Container\"\n",
    "POtrack1[\"K2\"].alignment = center\n",
    "POtrack1.merge_cells(\"K3:L3\")\n",
    "POtrack1[\"K3\"] = \"Shipment Details\"\n",
    "POtrack1[\"K3\"].alignment = center\n",
    "POtrack1.merge_cells(\"M1:O1\")\n",
    "POtrack1[\"M1\"] = \"CA/US\"\n",
    "POtrack1[\"M1\"].font = header = Font(size = 16, bold = True)\n",
    "POtrack1[\"M1\"].alignment = center\n",
    "POtrack1[\"M1\"].fill = PatternFill(\"solid\", fgColor = \"00008000\")\n",
    "POtrack1.merge_cells(\"P1:R1\")\n",
    "POtrack1[\"P1\"] = \"UK\"\n",
    "POtrack1[\"P1\"].font = header \n",
    "POtrack1[\"P1\"].alignment = center\n",
    "POtrack1[\"P1\"].fill = PatternFill(\"solid\", fgColor = \"003366FF\")\n",
    "POtrack1.merge_cells(\"S1:U1\")\n",
    "POtrack1[\"S1\"] = \"DE\"\n",
    "POtrack1[\"S1\"].font = header \n",
    "POtrack1[\"S1\"].alignment = center\n",
    "POtrack1[\"S1\"].fill = PatternFill(\"solid\", fgColor = \"00FF9900\")\n",
    "POtrack1.merge_cells(\"V1:X1\")\n",
    "POtrack1[\"V1\"] = \"CN Initial Reserve\"\n",
    "POtrack1[\"V1\"].font = header \n",
    "POtrack1[\"V1\"].alignment = center\n",
    "POtrack1[\"V1\"].fill = PatternFill(\"solid\", fgColor = \"00FF0000\")\n",
    "POtrack1.merge_cells(\"Y1:AA1\")\n",
    "POtrack1[\"Y1\"] = \"Wholesaler\"\n",
    "POtrack1[\"Y1\"].font = header \n",
    "POtrack1[\"Y1\"].alignment = center\n",
    "POtrack1[\"Y1\"].fill = PatternFill(\"solid\", fgColor = \"00339966\")\n",
    "head = [\"PO#\",\t\"CAT\", \"Season\", \"Factory\", \"Total PO in Pcs\", \"Name\", \"SKU\", \"Seasons\", \"Colour/Graphic(EN)\", \"Colour/Graphic(CN)\", \"Remain. in Pcs\", \"Remain. in %\"] + [\"PO Plan\", \"Remain. in Pcs\", \"Remain. in %\"]*5\n",
    "for col in range(1, 28):\n",
    "     POtrack1.cell(4, col).value = head[col-1]\n",
    "     POtrack1.cell(4, col).font = Font(size = 11, bold = True)\n",
    "     POtrack1.cell(4, col).alignment = center\n",
    "     POtrack1.cell(4, col).fill = PatternFill(\"solid\", fgColor = \"00FFCC00\")\n",
    "     POtrack1.cell(4, col).border = Border(top = thin, bottom = thin, left = thin, right = thin)\n",
    "POtrack1.row_dimensions[1].border = Border(bottom = thin)\n",
    "POtrack1.row_dimensions[2].border = Border(bottom = thin)\n",
    "POtrack1.row_dimensions[3].border = Border(bottom = thin)\n",
    "POtrack1.column_dimensions['J'].border = Border(right = thin)\n",
    "POtrack1.column_dimensions['M'].border = Border(left = thick)\n",
    "POtrack1.column_dimensions['P'].border = Border(left = thick)\n",
    "POtrack1.column_dimensions['S'].border = Border(left = thick)\n",
    "POtrack1.column_dimensions['V'].border = Border(left = thick)\n",
    "POtrack1.column_dimensions['Y'].border = Border(left = thick)\n",
    "POtrack.save(\"../PO/\" + season + \" China to Global Shipment Tracking.xlsx\")"
   ]
  },
  {
   "cell_type": "markdown",
   "id": "c29bc98f-e3f7-4bae-9ac9-78236ec44ee4",
   "metadata": {},
   "source": [
    "## Input PO"
   ]
  },
  {
   "cell_type": "markdown",
   "id": "b7d294dd-45b5-49fe-8b29-fb0e969c3763",
   "metadata": {},
   "source": [
    "Read in masterSKU file and load PO tracking file.   "
   ]
  },
  {
   "cell_type": "code",
   "execution_count": 49,
   "id": "dfa89052-8969-40b5-ae4c-0fb57b4c03ae",
   "metadata": {
    "tags": []
   },
   "outputs": [
    {
     "name": "stdout",
     "output_type": "stream",
     "text": [
      "['2023FW']\n"
     ]
    },
    {
     "data": {
      "text/html": [
       "<div>\n",
       "<style scoped>\n",
       "    .dataframe tbody tr th:only-of-type {\n",
       "        vertical-align: middle;\n",
       "    }\n",
       "\n",
       "    .dataframe tbody tr th {\n",
       "        vertical-align: top;\n",
       "    }\n",
       "\n",
       "    .dataframe thead th {\n",
       "        text-align: right;\n",
       "    }\n",
       "</style>\n",
       "<table border=\"1\" class=\"dataframe\">\n",
       "  <thead>\n",
       "    <tr style=\"text-align: right;\">\n",
       "      <th></th>\n",
       "      <th>MSKU Status</th>\n",
       "      <th>Seasons</th>\n",
       "      <th>Seasons SKU</th>\n",
       "      <th>Print SKU</th>\n",
       "      <th>Print Name</th>\n",
       "      <th>Print Chinese</th>\n",
       "      <th>Print Fabric</th>\n",
       "      <th>Size</th>\n",
       "      <th>Category SKU</th>\n",
       "      <th>Adjust SKU</th>\n",
       "      <th>UPC Active</th>\n",
       "    </tr>\n",
       "    <tr>\n",
       "      <th>MSKU</th>\n",
       "      <th></th>\n",
       "      <th></th>\n",
       "      <th></th>\n",
       "      <th></th>\n",
       "      <th></th>\n",
       "      <th></th>\n",
       "      <th></th>\n",
       "      <th></th>\n",
       "      <th></th>\n",
       "      <th></th>\n",
       "      <th></th>\n",
       "    </tr>\n",
       "  </thead>\n",
       "  <tbody>\n",
       "    <tr>\n",
       "      <th>AAA-AGR-M</th>\n",
       "      <td>Active</td>\n",
       "      <td>23S,22S,21S</td>\n",
       "      <td>23S,22S,21S</td>\n",
       "      <td>AGR</td>\n",
       "      <td>Army Green</td>\n",
       "      <td>军绿色</td>\n",
       "      <td>NaN</td>\n",
       "      <td>M</td>\n",
       "      <td>AAA</td>\n",
       "      <td>AAA-AGR-M</td>\n",
       "      <td>804928020603</td>\n",
       "    </tr>\n",
       "    <tr>\n",
       "      <th>AAA-AGR-L</th>\n",
       "      <td>Active</td>\n",
       "      <td>23S,22S,21S</td>\n",
       "      <td>23S,22S,21S</td>\n",
       "      <td>AGR</td>\n",
       "      <td>Army Green</td>\n",
       "      <td>军绿色</td>\n",
       "      <td>NaN</td>\n",
       "      <td>L</td>\n",
       "      <td>AAA</td>\n",
       "      <td>AAA-AGR-L</td>\n",
       "      <td>804928020610</td>\n",
       "    </tr>\n",
       "    <tr>\n",
       "      <th>AAA-BLK-M</th>\n",
       "      <td>Active</td>\n",
       "      <td>23S,22S,21S</td>\n",
       "      <td>23S,22S,21S</td>\n",
       "      <td>BLK</td>\n",
       "      <td>Black</td>\n",
       "      <td>黑色</td>\n",
       "      <td>NaN</td>\n",
       "      <td>M</td>\n",
       "      <td>AAA</td>\n",
       "      <td>AAA-BLK-M</td>\n",
       "      <td>804928020641</td>\n",
       "    </tr>\n",
       "    <tr>\n",
       "      <th>AAA-BLK-L</th>\n",
       "      <td>Active</td>\n",
       "      <td>23S,22S,21S</td>\n",
       "      <td>23S,22S,21S</td>\n",
       "      <td>BLK</td>\n",
       "      <td>Black</td>\n",
       "      <td>黑色</td>\n",
       "      <td>NaN</td>\n",
       "      <td>L</td>\n",
       "      <td>AAA</td>\n",
       "      <td>AAA-BLK-L</td>\n",
       "      <td>804928020658</td>\n",
       "    </tr>\n",
       "    <tr>\n",
       "      <th>AAA-GRA-M</th>\n",
       "      <td>Active</td>\n",
       "      <td>23S,22S,21S</td>\n",
       "      <td>23S,22S,21S</td>\n",
       "      <td>GRA</td>\n",
       "      <td>Grey</td>\n",
       "      <td>灰色</td>\n",
       "      <td>NaN</td>\n",
       "      <td>M</td>\n",
       "      <td>AAA</td>\n",
       "      <td>AAA-GRA-M</td>\n",
       "      <td>804928020627</td>\n",
       "    </tr>\n",
       "  </tbody>\n",
       "</table>\n",
       "</div>"
      ],
      "text/plain": [
       "          MSKU Status      Seasons  Seasons SKU Print SKU  Print Name  \\\n",
       "MSKU                                                                    \n",
       "AAA-AGR-M      Active  23S,22S,21S  23S,22S,21S       AGR  Army Green   \n",
       "AAA-AGR-L      Active  23S,22S,21S  23S,22S,21S       AGR  Army Green   \n",
       "AAA-BLK-M      Active  23S,22S,21S  23S,22S,21S       BLK       Black   \n",
       "AAA-BLK-L      Active  23S,22S,21S  23S,22S,21S       BLK       Black   \n",
       "AAA-GRA-M      Active  23S,22S,21S  23S,22S,21S       GRA        Grey   \n",
       "\n",
       "          Print Chinese  Print Fabric Size Category SKU Adjust SKU  \\\n",
       "MSKU                                                                 \n",
       "AAA-AGR-M           军绿色           NaN    M          AAA  AAA-AGR-M   \n",
       "AAA-AGR-L           军绿色           NaN    L          AAA  AAA-AGR-L   \n",
       "AAA-BLK-M            黑色           NaN    M          AAA  AAA-BLK-M   \n",
       "AAA-BLK-L            黑色           NaN    L          AAA  AAA-BLK-L   \n",
       "AAA-GRA-M            灰色           NaN    M          AAA  AAA-GRA-M   \n",
       "\n",
       "             UPC Active  \n",
       "MSKU                     \n",
       "AAA-AGR-M  804928020603  \n",
       "AAA-AGR-L  804928020610  \n",
       "AAA-BLK-M  804928020641  \n",
       "AAA-BLK-L  804928020658  \n",
       "AAA-GRA-M  804928020627  "
      ]
     },
     "execution_count": 49,
     "metadata": {},
     "output_type": "execute_result"
    }
   ],
   "source": [
    "import pandas as pd\n",
    "import numpy as np\n",
    "import os\n",
    "from glob import glob\n",
    "from openpyxl import Workbook\n",
    "from openpyxl import load_workbook\n",
    "POtrack = load_workbook(filename = \"../PO/\" + season + \" China to Global Shipment Tracking.xlsx\")\n",
    "print(POtrack.sheetnames)\n",
    "POtrack1 = POtrack[season]\n",
    "masterSKU = pd.read_excel(\"../PO/1-MasterSKU-All-Product-2023-11-07.xlsx\", sheet_name = 0, skiprows = 1, header = 2, index_col = 9, usecols = \"B:M\", engine = \"openpyxl\")\n",
    "masterSKU.head()"
   ]
  },
  {
   "cell_type": "markdown",
   "id": "861d816d-9eb5-4634-b249-20a3243b8c65",
   "metadata": {},
   "source": [
    "Input PO files.   "
   ]
  },
  {
   "cell_type": "code",
   "execution_count": 50,
   "id": "07082a9d-9cbb-4627-9e72-9f4177e59588",
   "metadata": {
    "tags": []
   },
   "outputs": [
    {
     "name": "stdout",
     "output_type": "stream",
     "text": [
      "['P203']\n"
     ]
    }
   ],
   "source": [
    "POn = [\"P\" + str(n) for n in range(203, 204)]\n",
    "print(POn)"
   ]
  },
  {
   "cell_type": "code",
   "execution_count": 51,
   "id": "65e6925a-3be0-406e-8579-f0ddc55389ed",
   "metadata": {
    "tags": []
   },
   "outputs": [
    {
     "name": "stdout",
     "output_type": "stream",
     "text": [
      "['../PO/order/P203 - CA UK EU - WGS - Toasty-Dry Waterproof Snow Glove - 23F\\\\P203 - CA UK EU - WGS - Toasty-Dry Waterproof Snow Glove 儿童帶指滑雪手套 - 23F.xlsx']\n"
     ]
    }
   ],
   "source": [
    "file = [y for x in os.walk(\"../PO/order/\") for y in glob(os.path.join(x[0], POn[0] + \"*.xlsx\"))]\n",
    "print(file)"
   ]
  },
  {
   "cell_type": "code",
   "execution_count": 53,
   "id": "008a9826-75ba-4cd1-a2aa-be85a9aeddce",
   "metadata": {
    "tags": []
   },
   "outputs": [
    {
     "data": {
      "text/html": [
       "<div>\n",
       "<style scoped>\n",
       "    .dataframe tbody tr th:only-of-type {\n",
       "        vertical-align: middle;\n",
       "    }\n",
       "\n",
       "    .dataframe tbody tr th {\n",
       "        vertical-align: top;\n",
       "    }\n",
       "\n",
       "    .dataframe thead th {\n",
       "        text-align: right;\n",
       "    }\n",
       "</style>\n",
       "<table border=\"1\" class=\"dataframe\">\n",
       "  <thead>\n",
       "    <tr style=\"text-align: right;\">\n",
       "      <th></th>\n",
       "      <th>0</th>\n",
       "      <th>1</th>\n",
       "      <th>2</th>\n",
       "      <th>3</th>\n",
       "      <th>4</th>\n",
       "      <th>5</th>\n",
       "      <th>6</th>\n",
       "      <th>7</th>\n",
       "      <th>8</th>\n",
       "      <th>9</th>\n",
       "      <th>10</th>\n",
       "      <th>11</th>\n",
       "      <th>12</th>\n",
       "      <th>13</th>\n",
       "      <th>14</th>\n",
       "      <th>15</th>\n",
       "      <th>16</th>\n",
       "      <th>17</th>\n",
       "      <th>18</th>\n",
       "      <th>19</th>\n",
       "    </tr>\n",
       "  </thead>\n",
       "  <tbody>\n",
       "    <tr>\n",
       "      <th>0</th>\n",
       "      <td>NaN</td>\n",
       "      <td>NaN</td>\n",
       "      <td>货号 Category：</td>\n",
       "      <td>Toasty-Dry Waterproof Snow Glove 儿童帶指滑雪手套 (WGS)</td>\n",
       "      <td>NaN</td>\n",
       "      <td>NaN</td>\n",
       "      <td>订单总数量 OrderTotal：</td>\n",
       "      <td>NaN</td>\n",
       "      <td>4118</td>\n",
       "      <td>NaN</td>\n",
       "      <td>NaN</td>\n",
       "      <td>NaN</td>\n",
       "      <td>NaN</td>\n",
       "      <td>NaN</td>\n",
       "      <td>NaN</td>\n",
       "      <td>NaN</td>\n",
       "      <td>NaN</td>\n",
       "      <td>NaN</td>\n",
       "      <td>NaN</td>\n",
       "      <td>NaN</td>\n",
       "    </tr>\n",
       "    <tr>\n",
       "      <th>1</th>\n",
       "      <td>NaN</td>\n",
       "      <td>NaN</td>\n",
       "      <td>订单号 PO#：</td>\n",
       "      <td>P203-2023FW-WGS</td>\n",
       "      <td>NaN</td>\n",
       "      <td>NaN</td>\n",
       "      <td>其中，加拿大 CA：</td>\n",
       "      <td>NaN</td>\n",
       "      <td>3706</td>\n",
       "      <td>NaN</td>\n",
       "      <td>NaN</td>\n",
       "      <td>NaN</td>\n",
       "      <td>NaN</td>\n",
       "      <td>NaN</td>\n",
       "      <td>NaN</td>\n",
       "      <td>NaN</td>\n",
       "      <td>NaN</td>\n",
       "      <td>NaN</td>\n",
       "      <td>NaN</td>\n",
       "      <td>NaN</td>\n",
       "    </tr>\n",
       "    <tr>\n",
       "      <th>2</th>\n",
       "      <td>NaN</td>\n",
       "      <td>NaN</td>\n",
       "      <td>订单日期Order Date：</td>\n",
       "      <td>2022-11-15 00:00:00</td>\n",
       "      <td>NaN</td>\n",
       "      <td>NaN</td>\n",
       "      <td>英国 UK：</td>\n",
       "      <td>NaN</td>\n",
       "      <td>206</td>\n",
       "      <td>NaN</td>\n",
       "      <td>NaN</td>\n",
       "      <td>NaN</td>\n",
       "      <td>NaN</td>\n",
       "      <td>NaN</td>\n",
       "      <td>NaN</td>\n",
       "      <td>NaN</td>\n",
       "      <td>NaN</td>\n",
       "      <td>NaN</td>\n",
       "      <td>NaN</td>\n",
       "      <td>NaN</td>\n",
       "    </tr>\n",
       "    <tr>\n",
       "      <th>3</th>\n",
       "      <td>NaN</td>\n",
       "      <td>NaN</td>\n",
       "      <td>出货日期 Ship Date:</td>\n",
       "      <td>NaN</td>\n",
       "      <td>NaN</td>\n",
       "      <td>NaN</td>\n",
       "      <td>德国 DE：</td>\n",
       "      <td>NaN</td>\n",
       "      <td>206</td>\n",
       "      <td>NaN</td>\n",
       "      <td>NaN</td>\n",
       "      <td>NaN</td>\n",
       "      <td>NaN</td>\n",
       "      <td>NaN</td>\n",
       "      <td>NaN</td>\n",
       "      <td>NaN</td>\n",
       "      <td>NaN</td>\n",
       "      <td>NaN</td>\n",
       "      <td>NaN</td>\n",
       "      <td>NaN</td>\n",
       "    </tr>\n",
       "    <tr>\n",
       "      <th>4</th>\n",
       "      <td>NaN</td>\n",
       "      <td>NaN</td>\n",
       "      <td>NaN</td>\n",
       "      <td>NaN</td>\n",
       "      <td>NaN</td>\n",
       "      <td>NaN</td>\n",
       "      <td>NaN</td>\n",
       "      <td>NaN</td>\n",
       "      <td>NaN</td>\n",
       "      <td>NaN</td>\n",
       "      <td>NaN</td>\n",
       "      <td>NaN</td>\n",
       "      <td>NaN</td>\n",
       "      <td>NaN</td>\n",
       "      <td>NaN</td>\n",
       "      <td>NaN</td>\n",
       "      <td>NaN</td>\n",
       "      <td>NaN</td>\n",
       "      <td>NaN</td>\n",
       "      <td>NaN</td>\n",
       "    </tr>\n",
       "  </tbody>\n",
       "</table>\n",
       "</div>"
      ],
      "text/plain": [
       "    0    1                2                                                3   \\\n",
       "0  NaN  NaN     货号 Category：  Toasty-Dry Waterproof Snow Glove 儿童帶指滑雪手套 (WGS)   \n",
       "1  NaN  NaN         订单号 PO#：                                  P203-2023FW-WGS   \n",
       "2  NaN  NaN  订单日期Order Date：                              2022-11-15 00:00:00   \n",
       "3  NaN  NaN  出货日期 Ship Date:                                              NaN   \n",
       "4  NaN  NaN              NaN                                              NaN   \n",
       "\n",
       "    4    5                  6    7     8    9    10   11   12   13   14   15  \\\n",
       "0  NaN  NaN  订单总数量 OrderTotal：  NaN  4118  NaN  NaN  NaN  NaN  NaN  NaN  NaN   \n",
       "1  NaN  NaN         其中，加拿大 CA：  NaN  3706  NaN  NaN  NaN  NaN  NaN  NaN  NaN   \n",
       "2  NaN  NaN             英国 UK：  NaN   206  NaN  NaN  NaN  NaN  NaN  NaN  NaN   \n",
       "3  NaN  NaN             德国 DE：  NaN   206  NaN  NaN  NaN  NaN  NaN  NaN  NaN   \n",
       "4  NaN  NaN                NaN  NaN   NaN  NaN  NaN  NaN  NaN  NaN  NaN  NaN   \n",
       "\n",
       "    16   17   18   19  \n",
       "0  NaN  NaN  NaN  NaN  \n",
       "1  NaN  NaN  NaN  NaN  \n",
       "2  NaN  NaN  NaN  NaN  \n",
       "3  NaN  NaN  NaN  NaN  \n",
       "4  NaN  NaN  NaN  NaN  "
      ]
     },
     "execution_count": 53,
     "metadata": {},
     "output_type": "execute_result"
    }
   ],
   "source": [
    "PO = pd.read_excel(file[0], sheet_name = 0, engine = \"openpyxl\", header = None)\n",
    "PO.head()"
   ]
  },
  {
   "cell_type": "code",
   "execution_count": 72,
   "id": "3c70cda1-f324-46d4-8da7-561c0b91f3c7",
   "metadata": {
    "tags": []
   },
   "outputs": [],
   "source": [
    "def locate_in_df(df, value):\n",
    "    col = df.loc[df.isin([value]).any(axis=1)]\n",
    "    return col"
   ]
  },
  {
   "cell_type": "code",
   "execution_count": 78,
   "id": "b8be87ab-4869-441b-9089-ff31065b65b9",
   "metadata": {
    "tags": []
   },
   "outputs": [
    {
     "name": "stdout",
     "output_type": "stream",
     "text": [
      "WGS 4118 Toasty-Dry Waterproof Snow Glove 儿童帶指滑雪手套 (WGS) 1 2\n"
     ]
    }
   ],
   "source": [
    "row, col = PO.where(PO.eq(\"订单号 PO#：\")).stack().index.to_list()[0]\n",
    "cat = PO.iloc[1,3].split(\"-\")[2]\n",
    "total = PO.iloc[0,8]\n",
    "name = PO.iloc[0,3]\n",
    "print(cat, total, name, row, col)"
   ]
  },
  {
   "cell_type": "code",
   "execution_count": null,
   "id": "e2ee855e-bf62-4b81-afe6-d1d736ab69af",
   "metadata": {},
   "outputs": [],
   "source": []
  },
  {
   "cell_type": "code",
   "execution_count": null,
   "id": "2c6d171f-5262-42f4-b60d-0ebf06e603ab",
   "metadata": {},
   "outputs": [],
   "source": []
  }
 ],
 "metadata": {
  "kernelspec": {
   "display_name": "Python 3 (ipykernel)",
   "language": "python",
   "name": "python3"
  },
  "language_info": {
   "codemirror_mode": {
    "name": "ipython",
    "version": 3
   },
   "file_extension": ".py",
   "mimetype": "text/x-python",
   "name": "python",
   "nbconvert_exporter": "python",
   "pygments_lexer": "ipython3",
   "version": "3.11.5"
  }
 },
 "nbformat": 4,
 "nbformat_minor": 5
}
